{
 "cells": [
  {
   "cell_type": "markdown",
   "metadata": {},
   "source": [
    "R Code pulled from https://www.statmethods.net/advgraphs/ggplot2.html"
   ]
  },
  {
   "cell_type": "code",
   "execution_count": 1,
   "metadata": {},
   "outputs": [],
   "source": [
    "# plotting rose data in ggplot2 from a tabular data package formatted dataset\n",
    "library(ggplot2) ",
    "library(readr)  ",
    "library(devtools)  ",
    "install_github(\"easyGgplot2\", \"kassambara\")  ",
    "library(easyGgplot2)  "
   ]
  },
  {
   "cell_type": "code",
   "execution_count": 2,
   "metadata": {},
   "outputs": [],
   "source": [
    "# rose arome nature genetics data from 2018 and plotting for the different treatment groups:\n",
   "rosedata <- read_csv(\"rose-aroma-naturegenetics2018-treatment-group-mean-sem-report-table-example.csv\")\n"
   ]
  },
  {
   "cell_type": "code",
   "execution_count": 3,
   "metadata": {},
   "outputs": [],
   "source": [
    "ggplot2.barplot(data=rosedata, xName=\"chemical_name\", yName=\"sample_mean\")"
   ]
  },
 
  

  {
   "cell_type": "code",
   "execution_count": null,
   "metadata": {},
   "outputs": [],
   "source": []
  }
 ],
 "metadata": {
  "kernelspec": {
   "display_name": "R",
   "language": "R",
   "name": "ir"
  },
  "language_info": {
   "codemirror_mode": "r",
   "file_extension": ".r",
   "mimetype": "text/x-r-source",
   "name": "R",
   "pygments_lexer": "r",
   "version": "3.4.2"
  }
 },
 "nbformat": 4,
 "nbformat_minor": 2
}
