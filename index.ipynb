{
 "cells": [
  {
   "cell_type": "markdown",
   "metadata": {},
   "source": [
    "R Code showing how tab data package formatted metabolite profile data can be easily graphed using the ggplot2 library"
   ]
  },
  {
   "cell_type": "code",
   "execution_count": 1,
   "metadata": {},
   "outputs": [],
   "source": [
    "# plotting rose data in ggplot2 from a tabular data package formatted dataset\n",
    "library(ggplot2) \n",
    "library(readr)  \n",
    "library(devtools)  \n",
    "install_github(\"easyGgplot2\", \"kassambara\")  \n",
    "library(easyGgplot2)  "
   ]
  },
  {
   "cell_type": "code",
   "execution_count": 2,
   "metadata": {},
   "outputs": [],
   "source": [
    "# rose arome nature genetics data from 2018 and plotting for the different treatment groups:\n",
   "rosedata <- read_csv(\"rose-aroma-naturegenetics2018-treatment-group-mean-sem-report-table-example.csv\")\n"
   ]
  },
  {
   "cell_type": "code",
   "execution_count": 3,
   "metadata": {},
   "outputs": [],
   "source": [
    "ggplot2.barplot(data=rosedata, xName=\"chemical_name\", yName=\"sample_mean\", faceting=TRUE, facetingVarNames=\"treatment\", facetingDirection=\"vertical\",facetingScales=\"free\", groupName=\"treatment\", groupColors=c('#999999','#E69F00','pink','coral','grey','lightblue','aquamarine3','orange'), xtitle=\"chemical name\",ytitle=\"mean concentration\", xtitleFont=c(10,\"plain","darkblue\"),ytitleFont=c(10,\"plain\",\"darkblue\"), xTickLabelFont=c(8,\"italic\", \"black\"), yTickLabelFont=c(8,\"italic\",\"black\"), legendPosition=\"right\",legendTitle=\"Treatment\", legendTitleFont=c(10, \"bold\", \"black\"), legendTextFont=c(9, \"plain\", \"black\"), legendBackground=c(\"white\", 0.5, \"solid\", \"black\" )) + theme(axis.text.x=element_text(angle=90, hjust=1),strip.text.y = element_text(angle=0, colour=\"black\",face=\"plain\",size=8))"
   ]
  },
  {
   "cell_type": "code",
   "execution_count": 4,
   "metadata": {},
   "outputs": [],
   "source": [
    "# rose arome nature genetics data from 2018 and plotting for the different treatment groups:\n",
   "ng2018sc2015 <- read_csv(\"rose_aroma_compound_science2015_vs-NG2018.csv\")\n"
   ]
  },
  {
   "cell_type": "code",
   "execution_count": 5,
   "metadata": {},
   "outputs": [],
   "source": ["ggplot2.barplot(data=rose_ngVs, xName=\"compound\", yName=\"normalized_to_total_sum_concentration\", faceting=TRUE, facetingVarNames=\"publication_year\", facetingDirection=\"vertical\",facetingScales=\"free\", groupName=\"publication_year\", groupColors=c('aquamarine3','orange'), xtitle=\"chemical name\",ytitle=\"normalizated to total sum concentration\", xtitleFont=c(10,\"plain\",\"darkblue\"),ytitleFont=c(10,\"plain\",\"darkblue\"), xTickLabelFont=c(8,\"italic\", \"black\"), yTickLabelFont=c(8,\"italic\",\"black\"),  legendPosition=\"right\", legendTitle=\"Treatment\", legendTitleFont=c(10, \"bold\", \"black\"),           legendTextFont=c(9, \"plain\", \"black\"), legendBackground=c(\"white\", 0.5, \"solid\", \"black\" ))  + theme(axis.text.x=element_text(angle=90, hjust=1),strip.text.y = element_text(angle=0, colour=\"black\",face=\"plain\",size=8))"]
  }
 ],
 "metadata": {
  "kernelspec": {
   "display_name": "R",
   "language": "R",
   "name": "ir"
  },
  "language_info": {
   "codemirror_mode": "r",
   "file_extension": ".r",
   "mimetype": "text/x-r-source",
   "name": "R",
   "pygments_lexer": "r",
   "version": "3.4.2"
  }
 },
 "nbformat": 4,
 "nbformat_minor": 2
}
