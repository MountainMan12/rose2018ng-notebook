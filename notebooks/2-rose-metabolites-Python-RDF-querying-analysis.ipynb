{
 "cells": [
  {
   "cell_type": "markdown",
   "metadata": {},
   "source": [
    "# Exploring a rose garden with SPARQL"
   ]
  },
  {
   "cell_type": "markdown",
   "metadata": {},
   "source": [
    "*Philippe Rocca-Serra (philippe.rocca-serra[at]oerc.ox.ac.uk), University of Oxford e-Research Centre"
   ]
  },
  {
   "cell_type": "code",
   "execution_count": null,
   "metadata": {},
   "outputs": [],
   "source": [
    "from rdflib import Graph, RDF\n",
    "from IPython.core.display import display, HTML\n",
    "import os\n",
    "import json\n",
    "import csv\n",
    "import uuid\n",
    "\n",
    "from SPARQLWrapper import SPARQLWrapper, SPARQLWrapper2, JSON, JSONLD, CSV, TSV, N3, RDF, RDFXML, TURTLE\n",
    "import pandas as pds\n",
    "import itertools\n",
    "\n",
    "import numpy as np\n",
    "from plotnine import *\n"
   ]
  },
  {
   "cell_type": "code",
   "execution_count": null,
   "metadata": {},
   "outputs": [],
   "source": [
    "def queryResultToHTMLTable(queryResult):\n",
    "   HTMLResult = '<table><tr style=\"color:white;background-color:#43BFC7;font-weight:bold\">'\n",
    "   # print variable names\n",
    "   for varName in queryResult.vars:\n",
    "       HTMLResult = HTMLResult + '<td>' + varName + '</td>'\n",
    "   HTMLResult = HTMLResult + '</tr>'\n",
    "   # print values from each row\n",
    "   for row in queryResult:\n",
    "      HTMLResult = HTMLResult + '<tr>'   \n",
    "      for column in row:\n",
    "         HTMLResult = HTMLResult + '<td>' + column + '</td>'\n",
    "      HTMLResult = HTMLResult + '</tr>'\n",
    "   HTMLResult = HTMLResult + '</table>'\n",
    "   display(HTML(HTMLResult))"
   ]
  },
  {
   "cell_type": "code",
   "execution_count": null,
   "metadata": {},
   "outputs": [],
   "source": [
    "def get_sparql_variables(results, sparql_wrapper=\"SPARQLWrapper2\"):\n",
    "#     return results.vars if (\"sparqlwrapper2\" == sparql_wrapper.lower()) else results['head']['vars']\n",
    "    return results.vars if (\"sparqlwrapper2\" == sparql_wrapper.lower()) else results.vars\n",
    "    print(results.vars)\n",
    "\n",
    "def get_sparql_bindings(results, sparql_wrapper=\"SPARQLWrapper2\"):\n",
    "    return results.bindings if (\"sparqlwrapper2\" == sparql_wrapper.lower()) else results['results']['bindings']\n",
    "   \n",
    "\n",
    "def get_sparql_binding_variable_value(binding, variable, sparql_wrapper=\"SPARQLWrapper2\"):\n",
    "    return binding[variable].value if (\"sparqlwrapper2\" == sparql_wrapper.lower()) else binding[variable]['value']\n",
    "   \n",
    "\n",
    "def make_sparql_dict_list(bindings, variables, sparql_wrapper=\"SPARQLWrapper2\"):\n",
    "    def binding_value(binding, var): # helper function for returning values\n",
    "        return get_sparql_binding_variable_value(binding, var, sparql_wrapper) if (var in binding) else None\n",
    "\n",
    "    dict_list = []  # list to contain dictionaries\n",
    "    for binding in itertools.chain(bindings):\n",
    "        values = [binding_value(binding, var) for var in itertools.chain(variables)]\n",
    "        dict_list.append(dict(zip(variables, values)))\n",
    "\n",
    "    return dict_list\n",
    "\n",
    "\n",
    "def make_sparql_df(results, sparql_wrapper=\"SPARQLWrapper2\"):\n",
    "    variables = get_sparql_variables(results, sparql_wrapper)\n",
    "\n",
    "    cleaned_variables=[str(var.replace('\\\\n','')) for var in variables] \n",
    "\n",
    "    #print(cleaned_variables)\n",
    "    bindings = get_sparql_bindings(results, sparql_wrapper)\n",
    "\n",
    "    # create a list of dictionaries to use as data for dataframe\n",
    "    data_list = make_sparql_dict_list(bindings, cleaned_variables, sparql_wrapper)\n",
    "    \n",
    "    #print(data_list)\n",
    "\n",
    "    df = pds.DataFrame(data_list) # create dataframe from data list\n",
    "    df[\"sample_mean\"] = df[\"sample_mean\"].astype(\"float\")\n",
    "\n",
    "    return df[cleaned_variables] # return dataframe with columns reordered"
   ]
  },
  {
   "cell_type": "markdown",
   "metadata": {},
   "source": [
    "*credits to Bob du Charme for the following function [http://www.snee.com/bobdc.blog/2016/07/sparql-in-a-jupyter-aka-ipytho.html]"
   ]
  },
  {
   "cell_type": "code",
   "execution_count": null,
   "metadata": {},
   "outputs": [],
   "source": [
    "g = Graph()"
   ]
  },
  {
   "cell_type": "markdown",
   "metadata": {},
   "source": [
    "Let's read the RDF graph generated using the rose-dtpkg2rdf.py python script and saved to disk as a turtle file"
   ]
  },
  {
   "cell_type": "code",
   "execution_count": null,
   "metadata": {},
   "outputs": [],
   "source": [
    "#g.parse(\"./rose-data-as-rdf/rose-aroma-ng-06-2018-subset.ttl\", format=\"n3\")\n",
    "g.parse(\"./../data/processed/rose-data-as-rdf/rose-aroma-ng-06-2018-full.ttl\", format=\"n3\")\n"
   ]
  },
  {
   "cell_type": "markdown",
   "metadata": {},
   "source": [
    "Now let's ask for the independent variables and their levels using the following SPARQL query"
   ]
  },
  {
   "cell_type": "code",
   "execution_count": null,
   "metadata": {},
   "outputs": [],
   "source": [
    "get_idv_and_levels = g.query(\"\"\"\n",
    "PREFIX stato: <http://purl.obolibrary.org/obo/STATO_>\n",
    "prefix rdfs: <http://www.w3.org/2000/01/rdf-schema#> \n",
    "PREFIX ncbitax: <http://purl.obolibrary.org/obo/NCBITax_>\n",
    "prefix ro: <http://purl.obolibrary.org/obo/RO_> \n",
    "            SELECT DISTINCT\n",
    "             ?Predictor\n",
    "             ?PredictorLevel\n",
    "             WHERE { \n",
    "                ?var a stato:0000087 ;\n",
    "                    rdfs:label ?Predictor;\n",
    "                    ro:has_part ?value.\n",
    "                ?value rdfs:label ?PredictorLevel    \n",
    "                 }               \n",
    "\"\"\")"
   ]
  },
  {
   "cell_type": "markdown",
   "metadata": {},
   "source": [
    "We can display the results of that query using the function declared earlier on."
   ]
  },
  {
   "cell_type": "code",
   "execution_count": null,
   "metadata": {},
   "outputs": [],
   "source": [
    "queryResultToHTMLTable(get_idv_and_levels)"
   ]
  },
  {
   "cell_type": "markdown",
   "metadata": {},
   "source": [
    "Let's now ask for the number of biological and technical replicates used to compute the mean concentration of the chemical compounds detected and forming the signature of the rose fragrance."
   ]
  },
  {
   "cell_type": "code",
   "execution_count": null,
   "metadata": {},
   "outputs": [],
   "source": [
    "get_replication_info = g.query(\"\"\"\n",
    "prefix rdfs: <http://www.w3.org/2000/01/rdf-schema#> \n",
    "prefix chmo:   <http://purl.obolibrary.org/obo/CHMO_> \n",
    "prefix msio:   <http://purl.obolibrary.org/obo/MSIO_> \n",
    "prefix stato: <http://purl.obolibrary.org/obo/STATO_> \n",
    "prefix obi: <http://purl.obolibrary.org/obo/OBI_> \n",
    "prefix ro: <http://purl.obolibrary.org/obo/RO_>\n",
    "prefix po: <http://purl.obolibrary.org/obo/PO_>\n",
    "\n",
    "SELECT        \n",
    "      ?TreatmentGroup        \n",
    "      (count(distinct ?member) as ?NbTechnicalReplicate) \n",
    "      (count(distinct ?input) as ?NbBiologicalReplicate) \n",
    "      WHERE {\n",
    "            ?population a stato:0000193 ;\n",
    "                rdfs:label ?TreatmentGroup ;\n",
    "                ro:has_member ?member .      \n",
    "            ?member ro:has_specified_input ?input .              \n",
    "            ?mean a stato:0000402 ;\n",
    "                stato:computed_over ?population ;\n",
    "                ro:has_value ?MeanConcentration ;\n",
    "                ro:is_about ?ChemicalCompound .\n",
    "            ?concentration a stato:0000072;\n",
    "                ro:is_specified_output_of ?assay ;\n",
    "                ro:is_about ?ChemicalCompound .\n",
    "            }\n",
    "      GROUP BY ?population \n",
    "\"\"\")"
   ]
  },
  {
   "cell_type": "markdown",
   "metadata": {},
   "source": [
    "Once more, we invoked the pretty printing function:"
   ]
  },
  {
   "cell_type": "code",
   "execution_count": null,
   "metadata": {},
   "outputs": [],
   "source": [
    "queryResultToHTMLTable(get_replication_info)"
   ]
  },
  {
   "cell_type": "code",
   "execution_count": null,
   "metadata": {},
   "outputs": [],
   "source": [
    "get_all_data = g.query(\"\"\"\n",
    "prefix rdfs: <http://www.w3.org/2000/01/rdf-schema#> \n",
    "prefix chmo:   <http://purl.obolibrary.org/obo/CHMO_> \n",
    "prefix msio:   <http://purl.obolibrary.org/obo/MSIO_> \n",
    "prefix stato: <http://purl.obolibrary.org/obo/STATO_> \n",
    "prefix obi: <http://purl.obolibrary.org/obo/OBI_> \n",
    "prefix ro: <http://purl.obolibrary.org/obo/RO_>\n",
    "prefix po: <http://purl.obolibrary.org/obo/PO_>\n",
    "\n",
    "SELECT DISTINCT  ?chemical_name ?chebi_identifier  ?inchi ?sample_mean ?sem ?treatment ?genotype ?organism_part\n",
    "WHERE {\n",
    "    ?pop_mean a stato:0000402 ;\n",
    "        ro:is_about ?chebi_identifier ;\n",
    "        stato:computed_over ?population ;\n",
    "        ro:has_value ?sample_mean .\n",
    "    ?chem a ?chebi_identifier ;\n",
    "        rdfs:label ?chemical_name ;\n",
    "        ro:is_denoted_by ?inchi .    \n",
    "    ?semv a stato:0000037 ; \n",
    "        ro:denotes ?pop_mean ;\n",
    "        ro:has_value ?sem.\n",
    "    ?population a stato:0000193 ;\n",
    "        rdfs:label ?treatment .\n",
    "    ?sub_conc a stato:0000072 ;\n",
    "        ro:derives_from ?genotype ;\n",
    "        ro:located_in ?organism_part;\n",
    "        ro:measured_in ?population .\n",
    "\n",
    "}        \n",
    "\"\"\")"
   ]
  },
  {
   "cell_type": "code",
   "execution_count": null,
   "metadata": {},
   "outputs": [],
   "source": [
    "queryResultToHTMLTable(get_all_data)"
   ]
  },
  {
   "cell_type": "code",
   "execution_count": null,
   "metadata": {},
   "outputs": [],
   "source": [
    "data=make_sparql_df(get_all_data)"
   ]
  },
  {
   "cell_type": "code",
   "execution_count": null,
   "metadata": {},
   "outputs": [],
   "source": [
    "# width = figure_size[0]\n",
    "# height = figure_size[0] * aspect_ratio\n",
    "gray = '#666666'\n",
    "orange = '#FF8000'\n",
    "blue = '#3333FF'\n",
    "\n",
    "p1 = (ggplot(data)\n",
    " + aes('chemical_name','sample_mean',fill='factor(treatment)')\n",
    " + geom_col()\n",
    "+ facet_wrap('~treatment', dir='v',ncol=1)\n",
    " + scale_y_continuous(expand = (0,0))\n",
    " + theme(axis_text_x=element_text(rotation=90, hjust=1, fontsize=6, color=blue))\n",
    " + theme(axis_text_y=element_text(rotation=0, hjust=2, fontsize=6, color=orange))\n",
    "         + theme(figure_size = (8, 16))\n",
    ")\n",
    "\n",
    "p1 + theme(panel_background=element_rect(fill=blue)\n",
    "       )\n",
    "\n",
    "p1"
   ]
  },
  {
   "cell_type": "code",
   "execution_count": null,
   "metadata": {},
   "outputs": [],
   "source": []
  }
 ],
 "metadata": {
  "kernelspec": {
   "display_name": "Python 3",
   "language": "python",
   "name": "python3"
  },
  "language_info": {
   "codemirror_mode": {
    "name": "ipython",
    "version": 3
   },
   "file_extension": ".py",
   "mimetype": "text/x-python",
   "name": "python",
   "nbconvert_exporter": "python",
   "pygments_lexer": "ipython3",
   "version": "3.6.5"
  }
 },
 "nbformat": 4,
 "nbformat_minor": 2
}
