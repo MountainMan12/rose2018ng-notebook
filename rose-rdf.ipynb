{
 "cells": [
  {
   "cell_type": "markdown",
   "metadata": {},
   "source": [
    "# Exploring a rose garden with SPARQL"
   ]
  },
  {
   "cell_type": "markdown",
   "metadata": {},
   "source": [
    "*Philippe Rocca-Serra (philippe.rocca-serra[at]oerc.ox.ac.uk), University of Oxford e-Research Centre"
   ]
  },
  {
   "cell_type": "code",
   "execution_count": 1,
   "metadata": {},
   "outputs": [],
   "source": [
    "from rdflib import Graph, RDF\n",
    "from IPython.core.display import display, HTML\n",
    "import os\n",
    "import json\n",
    "import csv\n",
    "import uuid"
   ]
  },
  {
   "cell_type": "code",
   "execution_count": 2,
   "metadata": {},
   "outputs": [],
   "source": [
    "def queryResultToHTMLTable(queryResult):\n",
    "   HTMLResult = '<table><tr style=\"color:white;background-color:#43BFC7;font-weight:bold\">'\n",
    "   # print variable names\n",
    "   for varName in queryResult.vars:\n",
    "       HTMLResult = HTMLResult + '<td>' + varName + '</td>'\n",
    "   HTMLResult = HTMLResult + '</tr>'\n",
    "   # print values from each row\n",
    "   for row in queryResult:\n",
    "      HTMLResult = HTMLResult + '<tr>'   \n",
    "      for column in row:\n",
    "         HTMLResult = HTMLResult + '<td>' + column + '</td>'\n",
    "      HTMLResult = HTMLResult + '</tr>'\n",
    "   HTMLResult = HTMLResult + '</table>'\n",
    "   display(HTML(HTMLResult))"
   ]
  },
  {
   "cell_type": "markdown",
   "metadata": {},
   "source": [
    "*credits to Bob du Charme for the following function [http://www.snee.com/bobdc.blog/2016/07/sparql-in-a-jupyter-aka-ipytho.html]"
   ]
  },
  {
   "cell_type": "code",
   "execution_count": 3,
   "metadata": {},
   "outputs": [],
   "source": [
    "g = Graph()"
   ]
  },
  {
   "cell_type": "markdown",
   "metadata": {},
   "source": [
    "Let's read the RDF graph generated using the rose-dtpkg2rdf.py python script and saved to disk as a turtle file"
   ]
  },
  {
   "cell_type": "code",
   "execution_count": 4,
   "metadata": {},
   "outputs": [
    {
     "data": {
      "text/plain": [
       "<Graph identifier=Ne40ee8a3e63c4712892b7246ad23c0c0 (<class 'rdflib.graph.Graph'>)>"
      ]
     },
     "execution_count": 4,
     "metadata": {},
     "output_type": "execute_result"
    }
   ],
   "source": [
    "g.parse(\"./rose-data/rose-aroma-test.ttl\", format=\"n3\")"
   ]
  },
  {
   "cell_type": "markdown",
   "metadata": {},
   "source": [
    "Now let's ask for the independent variables and their levels using the following SPARQL query"
   ]
  },
  {
   "cell_type": "code",
   "execution_count": 5,
   "metadata": {},
   "outputs": [],
   "source": [
    "qres1 = g.query(\"\"\"\n",
    "PREFIX stato: <http://purl.obolibrary.org/obo/STATO_>\n",
    "prefix rdfs: <http://www.w3.org/2000/01/rdf-schema#> \n",
    "PREFIX ncbitax: <http://purl.obolibrary.org/obo/NCBITax_>\n",
    "prefix ro: <http://purl.obolibrary.org/obo/RO_> \n",
    "            SELECT DISTINCT\n",
    "             ?Predictor\n",
    "             ?PredictorLevel\n",
    "             WHERE { \n",
    "                ?var a stato:0000087 ;\n",
    "                    rdfs:label ?Predictor;\n",
    "                    ro:has_part ?value.\n",
    "                ?value rdfs:label ?PredictorLevel    \n",
    "                 }               \n",
    "\"\"\")"
   ]
  },
  {
   "cell_type": "markdown",
   "metadata": {},
   "source": [
    "We can display the results of that query using the function declared earlier on."
   ]
  },
  {
   "cell_type": "code",
   "execution_count": 6,
   "metadata": {},
   "outputs": [
    {
     "data": {
      "text/html": [
       "<table><tr style=\"color:white;background-color:#43BFC7;font-weight:bold\"><td>Predictor</td><td>PredictorLevel</td></tr><tr><td>genotype</td><td>R. chinensis 'Old Blush'</td></tr><tr><td>genotype</td><td>R. gigantea</td></tr><tr><td>organism part</td><td>sepal</td></tr><tr><td>organism part</td><td>stamen</td></tr><tr><td>organism part</td><td>petal</td></tr></table>"
      ],
      "text/plain": [
       "<IPython.core.display.HTML object>"
      ]
     },
     "metadata": {},
     "output_type": "display_data"
    }
   ],
   "source": [
    "queryResultToHTMLTable(qres1)"
   ]
  },
  {
   "cell_type": "markdown",
   "metadata": {},
   "source": [
    "Let's now ask for the number of biological and technical replicates used to compute the mean concentration of the chemical compounds detected and forming the signature of the rose fragrance."
   ]
  },
  {
   "cell_type": "code",
   "execution_count": 7,
   "metadata": {},
   "outputs": [],
   "source": [
    "qres8 = g.query(\"\"\"\n",
    "prefix rdfs: <http://www.w3.org/2000/01/rdf-schema#> \n",
    "prefix chmo:   <http://purl.obolibrary.org/obo/CHMO_> \n",
    "prefix msio:   <http://purl.obolibrary.org/obo/MSIO_> \n",
    "prefix stato: <http://purl.obolibrary.org/obo/STATO_> \n",
    "prefix obi: <http://purl.obolibrary.org/obo/OBI_> \n",
    "prefix ro: <http://purl.obolibrary.org/obo/RO_>\n",
    "prefix po: <http://purl.obolibrary.org/obo/PO_>\n",
    "\n",
    "SELECT \n",
    "        \n",
    "        ?TreatmentGroup \n",
    "        ?MeanConcentration\n",
    "        ?ChemicalCompound        \n",
    "        (count(distinct ?member) as ?NbTechnicalReplicate) \n",
    "        (count(distinct ?input) as ?NbBiologicalReplicate) \n",
    "      WHERE {\n",
    "            ?population a stato:0000193 ;\n",
    "                rdfs:label ?TreatmentGroup ;\n",
    "                ro:has_member ?member .      \n",
    "            ?member ro:has_specified_input ?input .              \n",
    "            ?mean a stato:0000402 ;\n",
    "                stato:computed_over ?population ;\n",
    "                ro:has_value ?MeanConcentration ;\n",
    "                ro:is_about ?ChemicalCompound .\n",
    "            ?concentration a stato:0000072;\n",
    "                ro:is_specified_output_of ?assay ;\n",
    "                ro:is_about ?ChemicalCompound .      \n",
    "\n",
    "            }\n",
    "      GROUP BY ?population \n",
    "\"\"\")\n"
   ]
  },
  {
   "cell_type": "markdown",
   "metadata": {},
   "source": [
    "Once more, we invoked the pretty printing function:"
   ]
  },
  {
   "cell_type": "code",
   "execution_count": 8,
   "metadata": {},
   "outputs": [
    {
     "data": {
      "text/html": [
       "<table><tr style=\"color:white;background-color:#43BFC7;font-weight:bold\"><td>TreatmentGroup</td><td>MeanConcentration</td><td>ChemicalCompound</td><td>NbTechnicalReplicate</td><td>NbBiologicalReplicate</td></tr><tr><td>R. chinensis 'Old Blush' sepals</td><td>NA</td><td>chebi:88370</td><td>3</td><td>1</td></tr><tr><td>R. chinensis 'Old Blush' stamens</td><td>NA</td><td>chebi:88370</td><td>3</td><td>1</td></tr><tr><td>R. chinensis 'Old Blush' petals</td><td>NA</td><td>chebi:88370</td><td>3</td><td>1</td></tr><tr><td>R. gigantea petals</td><td>NA</td><td>chebi:88370</td><td>3</td><td>1</td></tr></table>"
      ],
      "text/plain": [
       "<IPython.core.display.HTML object>"
      ]
     },
     "metadata": {},
     "output_type": "display_data"
    }
   ],
   "source": [
    "queryResultToHTMLTable(qres8)"
   ]
  }
 ],
 "metadata": {
  "kernelspec": {
   "display_name": "Python 3",
   "language": "python",
   "name": "python3"
  },
  "language_info": {
   "codemirror_mode": {
    "name": "ipython",
    "version": 3
   },
   "file_extension": ".py",
   "mimetype": "text/x-python",
   "name": "python",
   "nbconvert_exporter": "python",
   "pygments_lexer": "ipython3",
   "version": "3.6.5"
  }
 },
 "nbformat": 4,
 "nbformat_minor": 2
}
